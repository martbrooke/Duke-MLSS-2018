{
 "cells": [
  {
   "cell_type": "code",
   "execution_count": 1,
   "metadata": {},
   "outputs": [
    {
     "name": "stdout",
     "output_type": "stream",
     "text": [
      "\n",
      " 8192 x 8192 matmul took: 0.77 sec, 1430.20 G ops/sec\n"
     ]
    }
   ],
   "source": [
    "#import os\n",
    "#import sys\n",
    "#os.environ[\"CUDA_VISIBLE_DEVICES\"]=\"1\"\n",
    "import tensorflow as tf\n",
    "import time\n",
    "#max memory for my gpu at 2^13 x 2^13 matrix\n",
    "n = 2**13\n",
    "dtype = tf.float32\n",
    "with tf.device(\"/job:localhost/replica:0/task:0/device:GPU:0\"):\n",
    "    matrix1 = tf.Variable(tf.random_uniform((n, n), dtype=dtype))\n",
    "    matrix2 = tf.Variable(tf.random_uniform((n, n), dtype=dtype))\n",
    "    product = tf.matmul(matrix1, matrix2)\n",
    "\n",
    "\n",
    "# avoid optimizing away redundant nodes\n",
    "config = tf.ConfigProto(graph_options=tf.GraphOptions(optimizer_options=tf.OptimizerOptions(opt_level=tf.OptimizerOptions.L0)))\n",
    "sess = tf.Session(config=config)\n",
    "\n",
    "sess.run(tf.global_variables_initializer())\n",
    "iters = 10\n",
    "\n",
    "# pre-warming\n",
    "sess.run(product.op)\n",
    "\n",
    "start = time.time()\n",
    "for i in range(iters):\n",
    "  sess.run(product.op)\n",
    "end = time.time()\n",
    "ops = n**3 + (n-1)*n**2 # n^2*(n-1) additions, n^3 multiplications\n",
    "elapsed = (end - start)\n",
    "rate = iters*ops/elapsed/10**9\n",
    "print('\\n %d x %d matmul took: %.2f sec, %.2f G ops/sec' % (n, n,\n",
    "                                                            elapsed/iters,\n",
    "                                                            rate,))"
   ]
  }
 ],
 "metadata": {
  "kernelspec": {
   "display_name": "Python 3",
   "language": "python",
   "name": "python3"
  },
  "language_info": {
   "codemirror_mode": {
    "name": "ipython",
    "version": 3
   },
   "file_extension": ".py",
   "mimetype": "text/x-python",
   "name": "python",
   "nbconvert_exporter": "python",
   "pygments_lexer": "ipython3",
   "version": "3.6.5"
  }
 },
 "nbformat": 4,
 "nbformat_minor": 2
}
